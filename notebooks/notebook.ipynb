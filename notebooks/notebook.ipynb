{
 "cells": [
  {
   "cell_type": "code",
   "execution_count": 3,
   "metadata": {},
   "outputs": [],
   "source": [
    "import pandas as pd\n",
    "import matplotlib.pyplot as plt\n",
    "import seaborn as sns\n",
    "import spacy\n",
    "import nltk\n",
    "from spacy import displacy"
   ]
  },
  {
   "cell_type": "code",
   "execution_count": 4,
   "metadata": {},
   "outputs": [
    {
     "name": "stdout",
     "output_type": "stream",
     "text": [
      "<class 'pandas.core.frame.DataFrame'>\n",
      "RangeIndex: 20761 entries, 0 to 20760\n",
      "Data columns (total 8 columns):\n",
      " #   Column                   Non-Null Count  Dtype  \n",
      "---  ------                   --------------  -----  \n",
      " 0   source                   20761 non-null  object \n",
      " 1   id_str                   20761 non-null  int64  \n",
      " 2   text                     20761 non-null  object \n",
      " 3   created_at               20761 non-null  object \n",
      " 4   retweet_count            20761 non-null  int64  \n",
      " 5   in_reply_to_user_id_str  2442 non-null   float64\n",
      " 6   favorite_count           20761 non-null  int64  \n",
      " 7   is_retweet               20761 non-null  bool   \n",
      "dtypes: bool(1), float64(1), int64(3), object(3)\n",
      "memory usage: 1.1+ MB\n"
     ]
    }
   ],
   "source": [
    "df_raw = pd.read_csv('../data/raw/trump_tweets.csv')\n",
    "df_raw.info()"
   ]
  },
  {
   "cell_type": "code",
   "execution_count": 5,
   "metadata": {},
   "outputs": [
    {
     "data": {
      "text/html": [
       "<div>\n",
       "<style scoped>\n",
       "    .dataframe tbody tr th:only-of-type {\n",
       "        vertical-align: middle;\n",
       "    }\n",
       "\n",
       "    .dataframe tbody tr th {\n",
       "        vertical-align: top;\n",
       "    }\n",
       "\n",
       "    .dataframe thead th {\n",
       "        text-align: right;\n",
       "    }\n",
       "</style>\n",
       "<table border=\"1\" class=\"dataframe\">\n",
       "  <thead>\n",
       "    <tr style=\"text-align: right;\">\n",
       "      <th></th>\n",
       "      <th>source</th>\n",
       "      <th>id_str</th>\n",
       "      <th>text</th>\n",
       "      <th>created_at</th>\n",
       "      <th>retweet_count</th>\n",
       "      <th>in_reply_to_user_id_str</th>\n",
       "      <th>favorite_count</th>\n",
       "      <th>is_retweet</th>\n",
       "    </tr>\n",
       "  </thead>\n",
       "  <tbody>\n",
       "    <tr>\n",
       "      <th>16397</th>\n",
       "      <td>Twitter for iPhone</td>\n",
       "      <td>759013928315686917</td>\n",
       "      <td>CAMPAIGN STATEMENT: \\nhttps://t.co/RNW3ED2ifR</td>\n",
       "      <td>2016-07-29T13:13:16Z</td>\n",
       "      <td>3863</td>\n",
       "      <td>NaN</td>\n",
       "      <td>10688</td>\n",
       "      <td>False</td>\n",
       "    </tr>\n",
       "    <tr>\n",
       "      <th>12943</th>\n",
       "      <td>Twitter for Android</td>\n",
       "      <td>654101562948763648</td>\n",
       "      <td>Can anyone imagine Chafee as president? No way.</td>\n",
       "      <td>2015-10-14T01:08:59Z</td>\n",
       "      <td>3441</td>\n",
       "      <td>NaN</td>\n",
       "      <td>8662</td>\n",
       "      <td>False</td>\n",
       "    </tr>\n",
       "    <tr>\n",
       "      <th>1360</th>\n",
       "      <td>Twitter Web Client</td>\n",
       "      <td>273520503090733056</td>\n",
       "      <td>The Muslim Brotherhood dictator in Egypt is ba...</td>\n",
       "      <td>2012-11-27T20:15:44Z</td>\n",
       "      <td>234</td>\n",
       "      <td>NaN</td>\n",
       "      <td>89</td>\n",
       "      <td>False</td>\n",
       "    </tr>\n",
       "    <tr>\n",
       "      <th>12573</th>\n",
       "      <td>Twitter for iPhone</td>\n",
       "      <td>667509225535311872</td>\n",
       "      <td>Kasich has already spent $6 million on ads in ...</td>\n",
       "      <td>2015-11-20T01:06:15Z</td>\n",
       "      <td>1263</td>\n",
       "      <td>NaN</td>\n",
       "      <td>3667</td>\n",
       "      <td>False</td>\n",
       "    </tr>\n",
       "    <tr>\n",
       "      <th>12422</th>\n",
       "      <td>Twitter for Android</td>\n",
       "      <td>672787852246319104</td>\n",
       "      <td>.@CNN &amp;amp; @CNNPolitics Please thank Alisyn C...</td>\n",
       "      <td>2015-12-04T14:41:38Z</td>\n",
       "      <td>952</td>\n",
       "      <td>NaN</td>\n",
       "      <td>2625</td>\n",
       "      <td>False</td>\n",
       "    </tr>\n",
       "    <tr>\n",
       "      <th>7078</th>\n",
       "      <td>Twitter Web Client</td>\n",
       "      <td>327504327335886848</td>\n",
       "      <td>Dangerous. While Obama is cutting down our mil...</td>\n",
       "      <td>2013-04-25T19:28:11Z</td>\n",
       "      <td>160</td>\n",
       "      <td>NaN</td>\n",
       "      <td>46</td>\n",
       "      <td>False</td>\n",
       "    </tr>\n",
       "    <tr>\n",
       "      <th>17646</th>\n",
       "      <td>Twitter for Android</td>\n",
       "      <td>708720448335437824</td>\n",
       "      <td>The last person that Hillary or Bernie want to...</td>\n",
       "      <td>2016-03-12T18:24:56Z</td>\n",
       "      <td>7478</td>\n",
       "      <td>NaN</td>\n",
       "      <td>20991</td>\n",
       "      <td>False</td>\n",
       "    </tr>\n",
       "    <tr>\n",
       "      <th>6890</th>\n",
       "      <td>Twitter Web Client</td>\n",
       "      <td>332128943668858880</td>\n",
       "      <td>People do not assume this but more than anythi...</td>\n",
       "      <td>2013-05-08T13:44:45Z</td>\n",
       "      <td>125</td>\n",
       "      <td>NaN</td>\n",
       "      <td>113</td>\n",
       "      <td>False</td>\n",
       "    </tr>\n",
       "    <tr>\n",
       "      <th>8926</th>\n",
       "      <td>Twitter Web Client</td>\n",
       "      <td>299190557794775040</td>\n",
       "      <td>@PIERPAOLOMONNI @UncleRUSH  Thanks.</td>\n",
       "      <td>2013-02-06T16:19:22Z</td>\n",
       "      <td>0</td>\n",
       "      <td>483341312.0</td>\n",
       "      <td>1</td>\n",
       "      <td>False</td>\n",
       "    </tr>\n",
       "    <tr>\n",
       "      <th>3237</th>\n",
       "      <td>Twitter Web Client</td>\n",
       "      <td>212974309101154304</td>\n",
       "      <td>Once again, @Cher tweets nonsense about @MittR...</td>\n",
       "      <td>2012-06-13T18:26:46Z</td>\n",
       "      <td>202</td>\n",
       "      <td>NaN</td>\n",
       "      <td>97</td>\n",
       "      <td>False</td>\n",
       "    </tr>\n",
       "  </tbody>\n",
       "</table>\n",
       "</div>"
      ],
      "text/plain": [
       "                    source              id_str  \\\n",
       "16397   Twitter for iPhone  759013928315686917   \n",
       "12943  Twitter for Android  654101562948763648   \n",
       "1360    Twitter Web Client  273520503090733056   \n",
       "12573   Twitter for iPhone  667509225535311872   \n",
       "12422  Twitter for Android  672787852246319104   \n",
       "7078    Twitter Web Client  327504327335886848   \n",
       "17646  Twitter for Android  708720448335437824   \n",
       "6890    Twitter Web Client  332128943668858880   \n",
       "8926    Twitter Web Client  299190557794775040   \n",
       "3237    Twitter Web Client  212974309101154304   \n",
       "\n",
       "                                                    text  \\\n",
       "16397      CAMPAIGN STATEMENT: \\nhttps://t.co/RNW3ED2ifR   \n",
       "12943    Can anyone imagine Chafee as president? No way.   \n",
       "1360   The Muslim Brotherhood dictator in Egypt is ba...   \n",
       "12573  Kasich has already spent $6 million on ads in ...   \n",
       "12422  .@CNN &amp; @CNNPolitics Please thank Alisyn C...   \n",
       "7078   Dangerous. While Obama is cutting down our mil...   \n",
       "17646  The last person that Hillary or Bernie want to...   \n",
       "6890   People do not assume this but more than anythi...   \n",
       "8926                 @PIERPAOLOMONNI @UncleRUSH  Thanks.   \n",
       "3237   Once again, @Cher tweets nonsense about @MittR...   \n",
       "\n",
       "                 created_at  retweet_count  in_reply_to_user_id_str  \\\n",
       "16397  2016-07-29T13:13:16Z           3863                      NaN   \n",
       "12943  2015-10-14T01:08:59Z           3441                      NaN   \n",
       "1360   2012-11-27T20:15:44Z            234                      NaN   \n",
       "12573  2015-11-20T01:06:15Z           1263                      NaN   \n",
       "12422  2015-12-04T14:41:38Z            952                      NaN   \n",
       "7078   2013-04-25T19:28:11Z            160                      NaN   \n",
       "17646  2016-03-12T18:24:56Z           7478                      NaN   \n",
       "6890   2013-05-08T13:44:45Z            125                      NaN   \n",
       "8926   2013-02-06T16:19:22Z              0              483341312.0   \n",
       "3237   2012-06-13T18:26:46Z            202                      NaN   \n",
       "\n",
       "       favorite_count  is_retweet  \n",
       "16397           10688       False  \n",
       "12943            8662       False  \n",
       "1360               89       False  \n",
       "12573            3667       False  \n",
       "12422            2625       False  \n",
       "7078               46       False  \n",
       "17646           20991       False  \n",
       "6890              113       False  \n",
       "8926                1       False  \n",
       "3237               97       False  "
      ]
     },
     "execution_count": 5,
     "metadata": {},
     "output_type": "execute_result"
    }
   ],
   "source": [
    "df_raw.sample(10)"
   ]
  },
  {
   "cell_type": "code",
   "execution_count": 18,
   "metadata": {},
   "outputs": [],
   "source": [
    "nlp = spacy.load(\"en_core_web_trf\")"
   ]
  },
  {
   "cell_type": "code",
   "execution_count": 7,
   "metadata": {},
   "outputs": [
    {
     "name": "stdout",
     "output_type": "stream",
     "text": [
      "Number of tokens: 5\n"
     ]
    }
   ],
   "source": [
    "# Tokenization\n",
    "\n",
    "sentence = nlp.tokenizer(\"I live in Costa Rica\")\n",
    "print(f\"Number of tokens: {len(sentence)}\")"
   ]
  },
  {
   "cell_type": "code",
   "execution_count": 8,
   "metadata": {},
   "outputs": [
    {
     "name": "stdout",
     "output_type": "stream",
     "text": [
      "I\n",
      "live\n",
      "in\n",
      "Costa\n",
      "Rica\n"
     ]
    }
   ],
   "source": [
    "for word in sentence:\n",
    "    print(word)"
   ]
  },
  {
   "cell_type": "code",
   "execution_count": 13,
   "metadata": {},
   "outputs": [
    {
     "name": "stdout",
     "output_type": "stream",
     "text": [
      "The DET\n",
      "most ADV\n",
      "populated ADJ\n",
      "city NOUN\n",
      "in ADP\n",
      "Costa PROPN\n",
      "Rica PROPN\n",
      "is AUX\n",
      "San PROPN\n",
      "Jose PROPN\n",
      ". PUNCT\n"
     ]
    }
   ],
   "source": [
    "# POS = Part of Speech (tagging)\n",
    "\n",
    "sentence2 = nlp(\"The most populated city in Costa Rica is San Jose.\")\n",
    "for token in sentence2:\n",
    "    print(token.text, token.pos_)\n",
    "\n",
    "# DET : determinative\n",
    "# ADV : adverb\n",
    "# ADJ : adjective\n",
    "# ADP : adposition\n",
    "# PROPN : proper noun\n",
    "# AUX : auxiliar (to be, to have, will, should)\n",
    "# PUNCT : punctuation"
   ]
  },
  {
   "cell_type": "code",
   "execution_count": 14,
   "metadata": {},
   "outputs": [
    {
     "name": "stdout",
     "output_type": "stream",
     "text": [
      "The det\n",
      "most advmod\n",
      "populated amod\n",
      "city nsubj\n",
      "in prep\n",
      "Costa compound\n",
      "Rica pobj\n",
      "is ROOT\n",
      "San compound\n",
      "Jose attr\n",
      ". punct\n"
     ]
    }
   ],
   "source": [
    "# DEP = Dependence parsing\n",
    "\n",
    "for token in sentence2:\n",
    "    print(token.text, token.dep_)\n",
    "\n",
    "# det : determiner\n",
    "# advmod : adverbial modifier\n",
    "# amod : adjective modifier\n",
    "# nsubj : nominal subject\n",
    "# prep : preposition\n",
    "# pobj : proper object\n",
    "# ROOT : root word\n",
    "# atrr : attribution"
   ]
  },
  {
   "cell_type": "code",
   "execution_count": 19,
   "metadata": {},
   "outputs": [
    {
     "data": {
      "text/html": [
       "<span class=\"tex2jax_ignore\"><svg xmlns=\"http://www.w3.org/2000/svg\" xmlns:xlink=\"http://www.w3.org/1999/xlink\" xml:lang=\"en\" id=\"c35203e53c9c4926908b6f17591f8a3d-0\" class=\"displacy\" width=\"1800\" height=\"399.5\" direction=\"ltr\" style=\"max-width: none; height: 399.5px; color: #000000; background: #ffffff; font-family: Arial; direction: ltr\">\n",
       "<text class=\"displacy-token\" fill=\"currentColor\" text-anchor=\"middle\" y=\"309.5\">\n",
       "    <tspan class=\"displacy-word\" fill=\"currentColor\" x=\"50\">The</tspan>\n",
       "    <tspan class=\"displacy-tag\" dy=\"2em\" fill=\"currentColor\" x=\"50\">DET</tspan>\n",
       "</text>\n",
       "\n",
       "<text class=\"displacy-token\" fill=\"currentColor\" text-anchor=\"middle\" y=\"309.5\">\n",
       "    <tspan class=\"displacy-word\" fill=\"currentColor\" x=\"225\">most</tspan>\n",
       "    <tspan class=\"displacy-tag\" dy=\"2em\" fill=\"currentColor\" x=\"225\">ADV</tspan>\n",
       "</text>\n",
       "\n",
       "<text class=\"displacy-token\" fill=\"currentColor\" text-anchor=\"middle\" y=\"309.5\">\n",
       "    <tspan class=\"displacy-word\" fill=\"currentColor\" x=\"400\">populated</tspan>\n",
       "    <tspan class=\"displacy-tag\" dy=\"2em\" fill=\"currentColor\" x=\"400\">ADJ</tspan>\n",
       "</text>\n",
       "\n",
       "<text class=\"displacy-token\" fill=\"currentColor\" text-anchor=\"middle\" y=\"309.5\">\n",
       "    <tspan class=\"displacy-word\" fill=\"currentColor\" x=\"575\">city</tspan>\n",
       "    <tspan class=\"displacy-tag\" dy=\"2em\" fill=\"currentColor\" x=\"575\">NOUN</tspan>\n",
       "</text>\n",
       "\n",
       "<text class=\"displacy-token\" fill=\"currentColor\" text-anchor=\"middle\" y=\"309.5\">\n",
       "    <tspan class=\"displacy-word\" fill=\"currentColor\" x=\"750\">in</tspan>\n",
       "    <tspan class=\"displacy-tag\" dy=\"2em\" fill=\"currentColor\" x=\"750\">ADP</tspan>\n",
       "</text>\n",
       "\n",
       "<text class=\"displacy-token\" fill=\"currentColor\" text-anchor=\"middle\" y=\"309.5\">\n",
       "    <tspan class=\"displacy-word\" fill=\"currentColor\" x=\"925\">Costa</tspan>\n",
       "    <tspan class=\"displacy-tag\" dy=\"2em\" fill=\"currentColor\" x=\"925\">PROPN</tspan>\n",
       "</text>\n",
       "\n",
       "<text class=\"displacy-token\" fill=\"currentColor\" text-anchor=\"middle\" y=\"309.5\">\n",
       "    <tspan class=\"displacy-word\" fill=\"currentColor\" x=\"1100\">Rica</tspan>\n",
       "    <tspan class=\"displacy-tag\" dy=\"2em\" fill=\"currentColor\" x=\"1100\">PROPN</tspan>\n",
       "</text>\n",
       "\n",
       "<text class=\"displacy-token\" fill=\"currentColor\" text-anchor=\"middle\" y=\"309.5\">\n",
       "    <tspan class=\"displacy-word\" fill=\"currentColor\" x=\"1275\">is</tspan>\n",
       "    <tspan class=\"displacy-tag\" dy=\"2em\" fill=\"currentColor\" x=\"1275\">AUX</tspan>\n",
       "</text>\n",
       "\n",
       "<text class=\"displacy-token\" fill=\"currentColor\" text-anchor=\"middle\" y=\"309.5\">\n",
       "    <tspan class=\"displacy-word\" fill=\"currentColor\" x=\"1450\">San</tspan>\n",
       "    <tspan class=\"displacy-tag\" dy=\"2em\" fill=\"currentColor\" x=\"1450\">PROPN</tspan>\n",
       "</text>\n",
       "\n",
       "<text class=\"displacy-token\" fill=\"currentColor\" text-anchor=\"middle\" y=\"309.5\">\n",
       "    <tspan class=\"displacy-word\" fill=\"currentColor\" x=\"1625\">Jose.</tspan>\n",
       "    <tspan class=\"displacy-tag\" dy=\"2em\" fill=\"currentColor\" x=\"1625\">PROPN</tspan>\n",
       "</text>\n",
       "\n",
       "<g class=\"displacy-arrow\">\n",
       "    <path class=\"displacy-arc\" id=\"arrow-c35203e53c9c4926908b6f17591f8a3d-0-0\" stroke-width=\"2px\" d=\"M70,264.5 C70,89.5 570.0,89.5 570.0,264.5\" fill=\"none\" stroke=\"currentColor\"/>\n",
       "    <text dy=\"1.25em\" style=\"font-size: 0.8em; letter-spacing: 1px\">\n",
       "        <textPath xlink:href=\"#arrow-c35203e53c9c4926908b6f17591f8a3d-0-0\" class=\"displacy-label\" startOffset=\"50%\" side=\"left\" fill=\"currentColor\" text-anchor=\"middle\">det</textPath>\n",
       "    </text>\n",
       "    <path class=\"displacy-arrowhead\" d=\"M70,266.5 L62,254.5 78,254.5\" fill=\"currentColor\"/>\n",
       "</g>\n",
       "\n",
       "<g class=\"displacy-arrow\">\n",
       "    <path class=\"displacy-arc\" id=\"arrow-c35203e53c9c4926908b6f17591f8a3d-0-1\" stroke-width=\"2px\" d=\"M245,264.5 C245,177.0 390.0,177.0 390.0,264.5\" fill=\"none\" stroke=\"currentColor\"/>\n",
       "    <text dy=\"1.25em\" style=\"font-size: 0.8em; letter-spacing: 1px\">\n",
       "        <textPath xlink:href=\"#arrow-c35203e53c9c4926908b6f17591f8a3d-0-1\" class=\"displacy-label\" startOffset=\"50%\" side=\"left\" fill=\"currentColor\" text-anchor=\"middle\">advmod</textPath>\n",
       "    </text>\n",
       "    <path class=\"displacy-arrowhead\" d=\"M245,266.5 L237,254.5 253,254.5\" fill=\"currentColor\"/>\n",
       "</g>\n",
       "\n",
       "<g class=\"displacy-arrow\">\n",
       "    <path class=\"displacy-arc\" id=\"arrow-c35203e53c9c4926908b6f17591f8a3d-0-2\" stroke-width=\"2px\" d=\"M420,264.5 C420,177.0 565.0,177.0 565.0,264.5\" fill=\"none\" stroke=\"currentColor\"/>\n",
       "    <text dy=\"1.25em\" style=\"font-size: 0.8em; letter-spacing: 1px\">\n",
       "        <textPath xlink:href=\"#arrow-c35203e53c9c4926908b6f17591f8a3d-0-2\" class=\"displacy-label\" startOffset=\"50%\" side=\"left\" fill=\"currentColor\" text-anchor=\"middle\">amod</textPath>\n",
       "    </text>\n",
       "    <path class=\"displacy-arrowhead\" d=\"M420,266.5 L412,254.5 428,254.5\" fill=\"currentColor\"/>\n",
       "</g>\n",
       "\n",
       "<g class=\"displacy-arrow\">\n",
       "    <path class=\"displacy-arc\" id=\"arrow-c35203e53c9c4926908b6f17591f8a3d-0-3\" stroke-width=\"2px\" d=\"M595,264.5 C595,2.0 1275.0,2.0 1275.0,264.5\" fill=\"none\" stroke=\"currentColor\"/>\n",
       "    <text dy=\"1.25em\" style=\"font-size: 0.8em; letter-spacing: 1px\">\n",
       "        <textPath xlink:href=\"#arrow-c35203e53c9c4926908b6f17591f8a3d-0-3\" class=\"displacy-label\" startOffset=\"50%\" side=\"left\" fill=\"currentColor\" text-anchor=\"middle\">nsubj</textPath>\n",
       "    </text>\n",
       "    <path class=\"displacy-arrowhead\" d=\"M595,266.5 L587,254.5 603,254.5\" fill=\"currentColor\"/>\n",
       "</g>\n",
       "\n",
       "<g class=\"displacy-arrow\">\n",
       "    <path class=\"displacy-arc\" id=\"arrow-c35203e53c9c4926908b6f17591f8a3d-0-4\" stroke-width=\"2px\" d=\"M595,264.5 C595,177.0 740.0,177.0 740.0,264.5\" fill=\"none\" stroke=\"currentColor\"/>\n",
       "    <text dy=\"1.25em\" style=\"font-size: 0.8em; letter-spacing: 1px\">\n",
       "        <textPath xlink:href=\"#arrow-c35203e53c9c4926908b6f17591f8a3d-0-4\" class=\"displacy-label\" startOffset=\"50%\" side=\"left\" fill=\"currentColor\" text-anchor=\"middle\">prep</textPath>\n",
       "    </text>\n",
       "    <path class=\"displacy-arrowhead\" d=\"M740.0,266.5 L748.0,254.5 732.0,254.5\" fill=\"currentColor\"/>\n",
       "</g>\n",
       "\n",
       "<g class=\"displacy-arrow\">\n",
       "    <path class=\"displacy-arc\" id=\"arrow-c35203e53c9c4926908b6f17591f8a3d-0-5\" stroke-width=\"2px\" d=\"M945,264.5 C945,177.0 1090.0,177.0 1090.0,264.5\" fill=\"none\" stroke=\"currentColor\"/>\n",
       "    <text dy=\"1.25em\" style=\"font-size: 0.8em; letter-spacing: 1px\">\n",
       "        <textPath xlink:href=\"#arrow-c35203e53c9c4926908b6f17591f8a3d-0-5\" class=\"displacy-label\" startOffset=\"50%\" side=\"left\" fill=\"currentColor\" text-anchor=\"middle\">compound</textPath>\n",
       "    </text>\n",
       "    <path class=\"displacy-arrowhead\" d=\"M945,266.5 L937,254.5 953,254.5\" fill=\"currentColor\"/>\n",
       "</g>\n",
       "\n",
       "<g class=\"displacy-arrow\">\n",
       "    <path class=\"displacy-arc\" id=\"arrow-c35203e53c9c4926908b6f17591f8a3d-0-6\" stroke-width=\"2px\" d=\"M770,264.5 C770,89.5 1095.0,89.5 1095.0,264.5\" fill=\"none\" stroke=\"currentColor\"/>\n",
       "    <text dy=\"1.25em\" style=\"font-size: 0.8em; letter-spacing: 1px\">\n",
       "        <textPath xlink:href=\"#arrow-c35203e53c9c4926908b6f17591f8a3d-0-6\" class=\"displacy-label\" startOffset=\"50%\" side=\"left\" fill=\"currentColor\" text-anchor=\"middle\">pobj</textPath>\n",
       "    </text>\n",
       "    <path class=\"displacy-arrowhead\" d=\"M1095.0,266.5 L1103.0,254.5 1087.0,254.5\" fill=\"currentColor\"/>\n",
       "</g>\n",
       "\n",
       "<g class=\"displacy-arrow\">\n",
       "    <path class=\"displacy-arc\" id=\"arrow-c35203e53c9c4926908b6f17591f8a3d-0-7\" stroke-width=\"2px\" d=\"M1470,264.5 C1470,177.0 1615.0,177.0 1615.0,264.5\" fill=\"none\" stroke=\"currentColor\"/>\n",
       "    <text dy=\"1.25em\" style=\"font-size: 0.8em; letter-spacing: 1px\">\n",
       "        <textPath xlink:href=\"#arrow-c35203e53c9c4926908b6f17591f8a3d-0-7\" class=\"displacy-label\" startOffset=\"50%\" side=\"left\" fill=\"currentColor\" text-anchor=\"middle\">compound</textPath>\n",
       "    </text>\n",
       "    <path class=\"displacy-arrowhead\" d=\"M1470,266.5 L1462,254.5 1478,254.5\" fill=\"currentColor\"/>\n",
       "</g>\n",
       "\n",
       "<g class=\"displacy-arrow\">\n",
       "    <path class=\"displacy-arc\" id=\"arrow-c35203e53c9c4926908b6f17591f8a3d-0-8\" stroke-width=\"2px\" d=\"M1295,264.5 C1295,89.5 1620.0,89.5 1620.0,264.5\" fill=\"none\" stroke=\"currentColor\"/>\n",
       "    <text dy=\"1.25em\" style=\"font-size: 0.8em; letter-spacing: 1px\">\n",
       "        <textPath xlink:href=\"#arrow-c35203e53c9c4926908b6f17591f8a3d-0-8\" class=\"displacy-label\" startOffset=\"50%\" side=\"left\" fill=\"currentColor\" text-anchor=\"middle\">attr</textPath>\n",
       "    </text>\n",
       "    <path class=\"displacy-arrowhead\" d=\"M1620.0,266.5 L1628.0,254.5 1612.0,254.5\" fill=\"currentColor\"/>\n",
       "</g>\n",
       "</svg></span>"
      ],
      "text/plain": [
       "<IPython.core.display.HTML object>"
      ]
     },
     "metadata": {},
     "output_type": "display_data"
    }
   ],
   "source": [
    "displacy.render(sentence2)"
   ]
  },
  {
   "cell_type": "code",
   "execution_count": 12,
   "metadata": {},
   "outputs": [],
   "source": [
    "df_processed = df_raw.copy()\n",
    "df_processed = df_processed.drop(['id_str','is_retweet','in_reply_to_user_id_str'],axis=1)\n",
    "df_processed['created_at'] = pd.to_datetime(df_processed.created_at)\n",
    "df_processed.source = pd.Categorical(df_processed.source)\n",
    "df_processed = df_processed.loc[(df_processed.created_at >= '2015-06-17') & (df_processed.created_at <= '2016-11-08')]\n",
    "df_processed.created_at += pd.Timedelta(-5,unit='h')\n",
    "df_processed = df_processed.loc[(df_processed.source.str.contains('iPhone')) | (df_processed.source.str.contains('Android'))]\n",
    "df_processed.source = df_processed.source.cat.remove_unused_categories()\n",
    "df_processed.to_csv('../trump_tweets_processed.csv')"
   ]
  },
  {
   "cell_type": "code",
   "execution_count": 13,
   "metadata": {},
   "outputs": [],
   "source": [
    "df = df_processed.copy()"
   ]
  },
  {
   "cell_type": "code",
   "execution_count": 14,
   "metadata": {},
   "outputs": [
    {
     "name": "stdout",
     "output_type": "stream",
     "text": [
      "<class 'pandas.core.frame.DataFrame'>\n",
      "Index: 3946 entries, 12072 to 18506\n",
      "Data columns (total 5 columns):\n",
      " #   Column          Non-Null Count  Dtype              \n",
      "---  ------          --------------  -----              \n",
      " 0   source          3946 non-null   category           \n",
      " 1   text            3946 non-null   object             \n",
      " 2   created_at      3946 non-null   datetime64[ns, UTC]\n",
      " 3   retweet_count   3946 non-null   int64              \n",
      " 4   favorite_count  3946 non-null   int64              \n",
      "dtypes: category(1), datetime64[ns, UTC](1), int64(2), object(1)\n",
      "memory usage: 158.0+ KB\n"
     ]
    }
   ],
   "source": [
    "df.info()"
   ]
  },
  {
   "cell_type": "code",
   "execution_count": 15,
   "metadata": {},
   "outputs": [
    {
     "data": {
      "text/html": [
       "<div>\n",
       "<style scoped>\n",
       "    .dataframe tbody tr th:only-of-type {\n",
       "        vertical-align: middle;\n",
       "    }\n",
       "\n",
       "    .dataframe tbody tr th {\n",
       "        vertical-align: top;\n",
       "    }\n",
       "\n",
       "    .dataframe thead th {\n",
       "        text-align: right;\n",
       "    }\n",
       "</style>\n",
       "<table border=\"1\" class=\"dataframe\">\n",
       "  <thead>\n",
       "    <tr style=\"text-align: right;\">\n",
       "      <th></th>\n",
       "      <th>count</th>\n",
       "      <th>mean</th>\n",
       "      <th>std</th>\n",
       "      <th>min</th>\n",
       "      <th>25%</th>\n",
       "      <th>50%</th>\n",
       "      <th>75%</th>\n",
       "      <th>max</th>\n",
       "    </tr>\n",
       "  </thead>\n",
       "  <tbody>\n",
       "    <tr>\n",
       "      <th>retweet_count</th>\n",
       "      <td>3946.0</td>\n",
       "      <td>5839.465281</td>\n",
       "      <td>6156.818896</td>\n",
       "      <td>61.0</td>\n",
       "      <td>2013.25</td>\n",
       "      <td>4162.5</td>\n",
       "      <td>7807.25</td>\n",
       "      <td>168765.0</td>\n",
       "    </tr>\n",
       "    <tr>\n",
       "      <th>favorite_count</th>\n",
       "      <td>3946.0</td>\n",
       "      <td>15666.982767</td>\n",
       "      <td>14650.408743</td>\n",
       "      <td>167.0</td>\n",
       "      <td>5350.00</td>\n",
       "      <td>11981.5</td>\n",
       "      <td>21527.00</td>\n",
       "      <td>297281.0</td>\n",
       "    </tr>\n",
       "  </tbody>\n",
       "</table>\n",
       "</div>"
      ],
      "text/plain": [
       "                 count          mean           std    min      25%      50%  \\\n",
       "retweet_count   3946.0   5839.465281   6156.818896   61.0  2013.25   4162.5   \n",
       "favorite_count  3946.0  15666.982767  14650.408743  167.0  5350.00  11981.5   \n",
       "\n",
       "                     75%       max  \n",
       "retweet_count    7807.25  168765.0  \n",
       "favorite_count  21527.00  297281.0  "
      ]
     },
     "execution_count": 15,
     "metadata": {},
     "output_type": "execute_result"
    }
   ],
   "source": [
    "df.describe().T"
   ]
  },
  {
   "cell_type": "code",
   "execution_count": 16,
   "metadata": {},
   "outputs": [
    {
     "data": {
      "text/plain": [
       "source\n",
       "Twitter for iPhone     2099\n",
       "Twitter for Android    1847\n",
       "Name: count, dtype: int64"
      ]
     },
     "execution_count": 16,
     "metadata": {},
     "output_type": "execute_result"
    }
   ],
   "source": [
    "df.source.value_counts()"
   ]
  },
  {
   "cell_type": "code",
   "execution_count": 11,
   "metadata": {},
   "outputs": [
    {
     "data": {
      "image/png": "[encoded data removed]",
      "text/plain": [
       "<Figure size 640x480 with 4 Axes>"
      ]
     },
     "metadata": {},
     "output_type": "display_data"
    }
   ],
   "source": [
    "df = df[(df.source == 'Twitter for iPhone') | (df.source == 'Twitterr for Android')].copy()\n",
    "df.hist()\n",
    "plt.show()"
   ]
  },
  {
   "cell_type": "code",
   "execution_count": 17,
   "metadata": {},
   "outputs": [
    {
     "name": "stderr",
     "output_type": "stream",
     "text": [
      "/tmp/ipykernel_1469/1253197773.py:3: FutureWarning: The default of observed=False is deprecated and will be changed to True in a future version of pandas. Pass observed=False to retain current behavior or observed=True to adopt the future default and silence this warning.\n",
      "  .groupby(['source','hour'])\n",
      "/tmp/ipykernel_1469/1253197773.py:5: FutureWarning: The default of observed=False is deprecated and will be changed to True in a future version of pandas. Pass observed=False to retain current behavior or observed=True to adopt the future default and silence this warning.\n",
      "  .assign(rate=lambda df: df['count']/df.groupby('source')['count'].sum())\n",
      "/workspaces/nlp_task/.venv/lib/python3.10/site-packages/seaborn/_oldcore.py:1498: FutureWarning: is_categorical_dtype is deprecated and will be removed in a future version. Use isinstance(dtype, CategoricalDtype) instead\n",
      "  if pd.api.types.is_categorical_dtype(vector):\n",
      "/workspaces/nlp_task/.venv/lib/python3.10/site-packages/seaborn/_oldcore.py:1498: FutureWarning: is_categorical_dtype is deprecated and will be removed in a future version. Use isinstance(dtype, CategoricalDtype) instead\n",
      "  if pd.api.types.is_categorical_dtype(vector):\n",
      "/workspaces/nlp_task/.venv/lib/python3.10/site-packages/seaborn/_oldcore.py:1498: FutureWarning: is_categorical_dtype is deprecated and will be removed in a future version. Use isinstance(dtype, CategoricalDtype) instead\n",
      "  if pd.api.types.is_categorical_dtype(vector):\n",
      "/workspaces/nlp_task/.venv/lib/python3.10/site-packages/seaborn/_oldcore.py:1498: FutureWarning: is_categorical_dtype is deprecated and will be removed in a future version. Use isinstance(dtype, CategoricalDtype) instead\n",
      "  if pd.api.types.is_categorical_dtype(vector):\n",
      "/workspaces/nlp_task/.venv/lib/python3.10/site-packages/seaborn/_oldcore.py:1498: FutureWarning: is_categorical_dtype is deprecated and will be removed in a future version. Use isinstance(dtype, CategoricalDtype) instead\n",
      "  if pd.api.types.is_categorical_dtype(vector):\n",
      "/workspaces/nlp_task/.venv/lib/python3.10/site-packages/seaborn/_oldcore.py:1119: FutureWarning: use_inf_as_na option is deprecated and will be removed in a future version. Convert inf values to NaN before operating instead.\n",
      "  with pd.option_context('mode.use_inf_as_na', True):\n",
      "/workspaces/nlp_task/.venv/lib/python3.10/site-packages/seaborn/_oldcore.py:1119: FutureWarning: use_inf_as_na option is deprecated and will be removed in a future version. Convert inf values to NaN before operating instead.\n",
      "  with pd.option_context('mode.use_inf_as_na', True):\n",
      "/workspaces/nlp_task/.venv/lib/python3.10/site-packages/seaborn/_oldcore.py:1057: FutureWarning: The default of observed=False is deprecated and will be changed to True in a future version of pandas. Pass observed=False to retain current behavior or observed=True to adopt the future default and silence this warning.\n",
      "  grouped_data = data.groupby(\n"
     ]
    },
    {
     "data": {
      "image/png": "[encoded data removed]",
      "text/plain": [
       "<Figure size 640x480 with 1 Axes>"
      ]
     },
     "metadata": {},
     "output_type": "display_data"
    }
   ],
   "source": [
    "df_plot = (df\n",
    "           .assign(hour=df.created_at.dt.hour)\n",
    "           .groupby(['source','hour'])\n",
    "           .agg(count=('source','count'))\n",
    "           .assign(rate=lambda df: df['count']/df.groupby('source')['count'].sum())\n",
    "           .reset_index()\n",
    ")\n",
    "\n",
    "sns.lineplot(data=df_plot,x='hour',y='rate',hue='source',markers=True,style='source')\n",
    "plt.show()"
   ]
  },
  {
   "cell_type": "code",
   "execution_count": 18,
   "metadata": {},
   "outputs": [
    {
     "data": {
      "text/html": [
       "<div>\n",
       "<style scoped>\n",
       "    .dataframe tbody tr th:only-of-type {\n",
       "        vertical-align: middle;\n",
       "    }\n",
       "\n",
       "    .dataframe tbody tr th {\n",
       "        vertical-align: top;\n",
       "    }\n",
       "\n",
       "    .dataframe thead th {\n",
       "        text-align: right;\n",
       "    }\n",
       "</style>\n",
       "<table border=\"1\" class=\"dataframe\">\n",
       "  <thead>\n",
       "    <tr style=\"text-align: right;\">\n",
       "      <th></th>\n",
       "      <th>text</th>\n",
       "      <th>retweet_count</th>\n",
       "    </tr>\n",
       "  </thead>\n",
       "  <tbody>\n",
       "    <tr>\n",
       "      <th>16875</th>\n",
       "      <td>How long did it take your staff of 823 people ...</td>\n",
       "      <td>168765</td>\n",
       "    </tr>\n",
       "    <tr>\n",
       "      <th>17183</th>\n",
       "      <td>Happy #CincoDeMayo! The best taco bowls are ma...</td>\n",
       "      <td>85465</td>\n",
       "    </tr>\n",
       "    <tr>\n",
       "      <th>15333</th>\n",
       "      <td>MAKE AMERICA GREAT AGAIN!</td>\n",
       "      <td>59098</td>\n",
       "    </tr>\n",
       "    <tr>\n",
       "      <th>15758</th>\n",
       "      <td>Here is my statement. https://t.co/WAZiGoQqMQ</td>\n",
       "      <td>51891</td>\n",
       "    </tr>\n",
       "    <tr>\n",
       "      <th>16548</th>\n",
       "      <td>Such a great honor to be the Republican Nomine...</td>\n",
       "      <td>41616</td>\n",
       "    </tr>\n",
       "    <tr>\n",
       "      <th>15340</th>\n",
       "      <td>If Obama worked as hard on straightening out o...</td>\n",
       "      <td>41479</td>\n",
       "    </tr>\n",
       "    <tr>\n",
       "      <th>15827</th>\n",
       "      <td>For those few people knocking me for tweeting ...</td>\n",
       "      <td>40850</td>\n",
       "    </tr>\n",
       "    <tr>\n",
       "      <th>15756</th>\n",
       "      <td>The media and establishment want me out of the...</td>\n",
       "      <td>40772</td>\n",
       "    </tr>\n",
       "    <tr>\n",
       "      <th>16583</th>\n",
       "      <td>I am pleased to announce that I have chosen Go...</td>\n",
       "      <td>38782</td>\n",
       "    </tr>\n",
       "    <tr>\n",
       "      <th>16848</th>\n",
       "      <td>Is President Obama going to finally mention th...</td>\n",
       "      <td>38456</td>\n",
       "    </tr>\n",
       "  </tbody>\n",
       "</table>\n",
       "</div>"
      ],
      "text/plain": [
       "                                                    text  retweet_count\n",
       "16875  How long did it take your staff of 823 people ...         168765\n",
       "17183  Happy #CincoDeMayo! The best taco bowls are ma...          85465\n",
       "15333                          MAKE AMERICA GREAT AGAIN!          59098\n",
       "15758      Here is my statement. https://t.co/WAZiGoQqMQ          51891\n",
       "16548  Such a great honor to be the Republican Nomine...          41616\n",
       "15340  If Obama worked as hard on straightening out o...          41479\n",
       "15827  For those few people knocking me for tweeting ...          40850\n",
       "15756  The media and establishment want me out of the...          40772\n",
       "16583  I am pleased to announce that I have chosen Go...          38782\n",
       "16848  Is President Obama going to finally mention th...          38456"
      ]
     },
     "execution_count": 18,
     "metadata": {},
     "output_type": "execute_result"
    }
   ],
   "source": [
    "df.sort_values(by='retweet_count',ascending=False)[['text','retweet_count']][:10]"
   ]
  }
 ],
 "metadata": {
  "kernelspec": {
   "display_name": ".venv",
   "language": "python",
   "name": "python3"
  },
  "language_info": {
   "codemirror_mode": {
    "name": "ipython",
    "version": 3
   },
   "file_extension": ".py",
   "mimetype": "text/x-python",
   "name": "python",
   "nbconvert_exporter": "python",
   "pygments_lexer": "ipython3",
   "version": "3.10.8"
  },
  "orig_nbformat": 4
 },
 "nbformat": 4,
 "nbformat_minor": 2
}
